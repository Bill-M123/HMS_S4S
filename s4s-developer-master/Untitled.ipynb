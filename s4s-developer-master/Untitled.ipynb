{
 "cells": [
  {
   "cell_type": "markdown",
   "metadata": {},
   "source": [
    "# Sync for Science Coding Questions\n",
    "\n",
    "This repository contains the answers to two coding questions for HMS S4S program.  \n",
    "\n",
    "The first question is a  baseball problem which was solved in python 3.7.  The question and answers are contained in the notebook in s4s-developer-master as per instructions.\n",
    "\n",
    "The second question required development of a simple web app.  I chose to complete the problem described in the assignment, using django and its development server.  The code for that problem is containted in the hms directory.  The requirements are fully described in the bottom of the jupyter notebook described above."
   ]
  }
 ],
 "metadata": {
  "kernelspec": {
   "display_name": "Python 3",
   "language": "python",
   "name": "python3"
  },
  "language_info": {
   "codemirror_mode": {
    "name": "ipython",
    "version": 3
   },
   "file_extension": ".py",
   "mimetype": "text/x-python",
   "name": "python",
   "nbconvert_exporter": "python",
   "pygments_lexer": "ipython3",
   "version": "3.7.3"
  }
 },
 "nbformat": 4,
 "nbformat_minor": 2
}
