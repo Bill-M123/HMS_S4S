{
 "cells": [
  {
   "cell_type": "markdown",
   "metadata": {},
   "source": [
    "# Part 1. Exploratory Data Analysis"
   ]
  },
  {
   "cell_type": "markdown",
   "metadata": {},
   "source": [
    "Answers prepared by Bill Murphy 11/3/2019"
   ]
  },
  {
   "cell_type": "markdown",
   "metadata": {},
   "source": [
    "## Introduction\n",
    "In this evaluation we ask you questions that we expect you to answer using data. For each question we ask you to complete a series of tasks that should help guide you through the data analysis. Complete these tasks and then write a short answer to the question.\n",
    "\n",
    "#### Data\n",
    "Use an online database >> The [Sean Lahman's Baseball Database](http://seanlahman.com/baseball-archive/statistics) which contains the \"complete batting and pitching statistics from 1871 to 2013, plus fielding statistics, standings, team stats, managerial records, post-season data, and more. For more details on the latest release, please [read the documentation](http://seanlahman.com/files/database/readme2012.txt).\"\n",
    "\n",
    "#### Purpose\n",
    "Three main goals for you to demonstrate: \n",
    "a. Load in CSV files from the web. \n",
    "b. Create functions in python. \n",
    "C. Create plots and summary statistics for exploratory data analysis such as histograms, boxplots and scatter plots. \n",
    "\n",
    "#### Useful libraries for this test \n",
    "* [numpy](http://docs.scipy.org/doc/numpy-dev/user/index.html), for arrays\n",
    "* [pandas](http://pandas.pydata.org/), for data frames\n",
    "* [matplotlib](http://matplotlib.org/), for plotting\n",
    "\n",
    "---"
   ]
  },
  {
   "cell_type": "code",
   "execution_count": 5,
   "metadata": {
    "jupyter": {
     "outputs_hidden": false
    }
   },
   "outputs": [],
   "source": [
    "# special IPython command to prepare the notebook for matplotlib\n",
    "# minor changes to imports\n",
    "%matplotlib inline \n",
    "\n",
    "import numpy as np\n",
    "import pandas as pd\n",
    "import matplotlib.pyplot as plt\n",
    "\n",
    "# Additional imports\n",
    "import seaborn as sns\n",
    "import requests\n",
    "import io\n",
    "import zipfile"
   ]
  },
  {
   "cell_type": "markdown",
   "metadata": {},
   "source": [
    "### Problem setup\n",
    "\n",
    "There is evidence that the 2002 and 2003 Oakland A's, a team that used data science, had a competitive advantage. It's widely known now that baseball relies heavily on data science and other teams have started using these methods as well. Use exploratory data analysis to determine if the competitive advantage still exists. "
   ]
  },
  {
   "cell_type": "markdown",
   "metadata": {},
   "source": [
    "### Define Resuable constants"
   ]
  },
  {
   "cell_type": "code",
   "execution_count": 2,
   "metadata": {},
   "outputs": [],
   "source": [
    "ds_yrs=[2002,2003] #years Oakland supposedly had advantage\n",
    "last_5=list(range(1999,2004))\n",
    "\n",
    "cmap='BuGn_r'"
   ]
  },
  {
   "cell_type": "markdown",
   "metadata": {},
   "source": [
    "#### Problem 1(a) \n",
    "Load in [these CSV files](http://seanlahman.com/files/database/lahman-csv_2014-02-14.zip) from the [Sean Lahman's Baseball Database](http://seanlahman.com/baseball-archive/statistics). \n",
    "\n",
    "This task only uses the 'Salaries.csv' and 'Teams.csv' tables. Read these tables into a pandas `DataFrame` and show the head of each table. \n",
    "\n",
    "**Hint** Use the [requests](http://docs.python-requests.org/en/latest/), [BytesIO](https://docs.python.org/3.7/library/io.html#binary-i-o) and [zipfile](https://docs.python.org/3.7/library/zipfile.html) modules to get from the web.   "
   ]
  },
  {
   "cell_type": "code",
   "execution_count": 36,
   "metadata": {
    "jupyter": {
     "outputs_hidden": false
    }
   },
   "outputs": [
    {
     "name": "stdout",
     "output_type": "stream",
     "text": [
      "Files contained in zip:\n",
      "Index 0  \tFilename: SchoolsPlayers.csv\n",
      "Index 1  \tFilename: SeriesPost.csv\n",
      "Index 2  \tFilename: Teams.csv\n",
      "Index 3  \tFilename: TeamsFranchises.csv\n",
      "Index 4  \tFilename: TeamsHalf.csv\n",
      "Index 5  \tFilename: AllstarFull.csv\n",
      "Index 6  \tFilename: Appearances.csv\n",
      "Index 7  \tFilename: AwardsManagers.csv\n",
      "Index 8  \tFilename: AwardsPlayers.csv\n",
      "Index 9  \tFilename: AwardsShareManagers.csv\n",
      "Index 10  \tFilename: AwardsSharePlayers.csv\n",
      "Index 11  \tFilename: Batting.csv\n",
      "Index 12  \tFilename: BattingPost.csv\n",
      "Index 13  \tFilename: Fielding.csv\n",
      "Index 14  \tFilename: FieldingOF.csv\n",
      "Index 15  \tFilename: FieldingPost.csv\n",
      "Index 16  \tFilename: HallOfFame.csv\n",
      "Index 17  \tFilename: Managers.csv\n",
      "Index 18  \tFilename: ManagersHalf.csv\n",
      "Index 19  \tFilename: Master.csv\n",
      "Index 20  \tFilename: Pitching.csv\n",
      "Index 21  \tFilename: PitchingPost.csv\n",
      "Index 22  \tFilename: readme2013.txt\n",
      "Index 23  \tFilename: Salaries.csv\n",
      "Index 24  \tFilename: Schools.csv\n"
     ]
    }
   ],
   "source": [
    "# Zipfile Code copied from Stack Overflow\n",
    "\n",
    "url = 'http://seanlahman.com/files/database/lahman-csv_2014-02-14.zip'\n",
    "r = requests.get(url,auth=('user','pass'))\n",
    "\n",
    "mlz = zipfile.ZipFile(io.BytesIO(r.content))\n",
    "print('Files contained in zip:')\n",
    "\n",
    "for i,f in enumerate(mlz.namelist()):\n",
    "    print('Index {}  \\tFilename: {}'.format(i,f))"
   ]
  },
  {
   "cell_type": "code",
   "execution_count": 37,
   "metadata": {},
   "outputs": [
    {
     "name": "stdout",
     "output_type": "stream",
     "text": [
      "Part 1 of answer to Question 1\n"
     ]
    },
    {
     "data": {
      "text/html": [
       "<div>\n",
       "<style scoped>\n",
       "    .dataframe tbody tr th:only-of-type {\n",
       "        vertical-align: middle;\n",
       "    }\n",
       "\n",
       "    .dataframe tbody tr th {\n",
       "        vertical-align: top;\n",
       "    }\n",
       "\n",
       "    .dataframe thead th {\n",
       "        text-align: right;\n",
       "    }\n",
       "</style>\n",
       "<table border=\"1\" class=\"dataframe\">\n",
       "  <thead>\n",
       "    <tr style=\"text-align: right;\">\n",
       "      <th></th>\n",
       "      <th>yearID</th>\n",
       "      <th>teamID</th>\n",
       "      <th>lgID</th>\n",
       "      <th>playerID</th>\n",
       "      <th>salary</th>\n",
       "    </tr>\n",
       "  </thead>\n",
       "  <tbody>\n",
       "    <tr>\n",
       "      <th>0</th>\n",
       "      <td>1985</td>\n",
       "      <td>BAL</td>\n",
       "      <td>AL</td>\n",
       "      <td>murraed02</td>\n",
       "      <td>1472819</td>\n",
       "    </tr>\n",
       "    <tr>\n",
       "      <th>1</th>\n",
       "      <td>1985</td>\n",
       "      <td>BAL</td>\n",
       "      <td>AL</td>\n",
       "      <td>lynnfr01</td>\n",
       "      <td>1090000</td>\n",
       "    </tr>\n",
       "    <tr>\n",
       "      <th>2</th>\n",
       "      <td>1985</td>\n",
       "      <td>BAL</td>\n",
       "      <td>AL</td>\n",
       "      <td>ripkeca01</td>\n",
       "      <td>800000</td>\n",
       "    </tr>\n",
       "    <tr>\n",
       "      <th>3</th>\n",
       "      <td>1985</td>\n",
       "      <td>BAL</td>\n",
       "      <td>AL</td>\n",
       "      <td>lacyle01</td>\n",
       "      <td>725000</td>\n",
       "    </tr>\n",
       "    <tr>\n",
       "      <th>4</th>\n",
       "      <td>1985</td>\n",
       "      <td>BAL</td>\n",
       "      <td>AL</td>\n",
       "      <td>flanami01</td>\n",
       "      <td>641667</td>\n",
       "    </tr>\n",
       "  </tbody>\n",
       "</table>\n",
       "</div>"
      ],
      "text/plain": [
       "   yearID teamID lgID   playerID   salary\n",
       "0    1985    BAL   AL  murraed02  1472819\n",
       "1    1985    BAL   AL   lynnfr01  1090000\n",
       "2    1985    BAL   AL  ripkeca01   800000\n",
       "3    1985    BAL   AL   lacyle01   725000\n",
       "4    1985    BAL   AL  flanami01   641667"
      ]
     },
     "execution_count": 37,
     "metadata": {},
     "output_type": "execute_result"
    }
   ],
   "source": [
    "salaries_df=pd.read_csv(mlz.open(mlz.namelist()[23]))\n",
    "print('Part 1 of answer to Question 1')\n",
    "salaries_df.head()"
   ]
  },
  {
   "cell_type": "code",
   "execution_count": 39,
   "metadata": {},
   "outputs": [
    {
     "name": "stdout",
     "output_type": "stream",
     "text": [
      "Part 2 of answer to Question 1\n"
     ]
    },
    {
     "data": {
      "text/html": [
       "<div>\n",
       "<style scoped>\n",
       "    .dataframe tbody tr th:only-of-type {\n",
       "        vertical-align: middle;\n",
       "    }\n",
       "\n",
       "    .dataframe tbody tr th {\n",
       "        vertical-align: top;\n",
       "    }\n",
       "\n",
       "    .dataframe thead th {\n",
       "        text-align: right;\n",
       "    }\n",
       "</style>\n",
       "<table border=\"1\" class=\"dataframe\">\n",
       "  <thead>\n",
       "    <tr style=\"text-align: right;\">\n",
       "      <th></th>\n",
       "      <th>yearID</th>\n",
       "      <th>lgID</th>\n",
       "      <th>teamID</th>\n",
       "      <th>franchID</th>\n",
       "      <th>divID</th>\n",
       "      <th>Rank</th>\n",
       "      <th>G</th>\n",
       "      <th>Ghome</th>\n",
       "      <th>W</th>\n",
       "      <th>L</th>\n",
       "      <th>...</th>\n",
       "      <th>DP</th>\n",
       "      <th>FP</th>\n",
       "      <th>name</th>\n",
       "      <th>park</th>\n",
       "      <th>attendance</th>\n",
       "      <th>BPF</th>\n",
       "      <th>PPF</th>\n",
       "      <th>teamIDBR</th>\n",
       "      <th>teamIDlahman45</th>\n",
       "      <th>teamIDretro</th>\n",
       "    </tr>\n",
       "  </thead>\n",
       "  <tbody>\n",
       "    <tr>\n",
       "      <th>0</th>\n",
       "      <td>1871</td>\n",
       "      <td>NaN</td>\n",
       "      <td>PH1</td>\n",
       "      <td>PNA</td>\n",
       "      <td>NaN</td>\n",
       "      <td>1</td>\n",
       "      <td>28</td>\n",
       "      <td>NaN</td>\n",
       "      <td>21</td>\n",
       "      <td>7</td>\n",
       "      <td>...</td>\n",
       "      <td>NaN</td>\n",
       "      <td>0.84</td>\n",
       "      <td>Philadelphia Athletics</td>\n",
       "      <td>Jefferson Street Grounds</td>\n",
       "      <td>NaN</td>\n",
       "      <td>102</td>\n",
       "      <td>98</td>\n",
       "      <td>ATH</td>\n",
       "      <td>PH1</td>\n",
       "      <td>PH1</td>\n",
       "    </tr>\n",
       "    <tr>\n",
       "      <th>1</th>\n",
       "      <td>1871</td>\n",
       "      <td>NaN</td>\n",
       "      <td>CH1</td>\n",
       "      <td>CNA</td>\n",
       "      <td>NaN</td>\n",
       "      <td>2</td>\n",
       "      <td>28</td>\n",
       "      <td>NaN</td>\n",
       "      <td>19</td>\n",
       "      <td>9</td>\n",
       "      <td>...</td>\n",
       "      <td>NaN</td>\n",
       "      <td>0.82</td>\n",
       "      <td>Chicago White Stockings</td>\n",
       "      <td>Union Base-Ball Grounds</td>\n",
       "      <td>NaN</td>\n",
       "      <td>104</td>\n",
       "      <td>102</td>\n",
       "      <td>CHI</td>\n",
       "      <td>CH1</td>\n",
       "      <td>CH1</td>\n",
       "    </tr>\n",
       "    <tr>\n",
       "      <th>2</th>\n",
       "      <td>1871</td>\n",
       "      <td>NaN</td>\n",
       "      <td>BS1</td>\n",
       "      <td>BNA</td>\n",
       "      <td>NaN</td>\n",
       "      <td>3</td>\n",
       "      <td>31</td>\n",
       "      <td>NaN</td>\n",
       "      <td>20</td>\n",
       "      <td>10</td>\n",
       "      <td>...</td>\n",
       "      <td>NaN</td>\n",
       "      <td>0.83</td>\n",
       "      <td>Boston Red Stockings</td>\n",
       "      <td>South End Grounds I</td>\n",
       "      <td>NaN</td>\n",
       "      <td>103</td>\n",
       "      <td>98</td>\n",
       "      <td>BOS</td>\n",
       "      <td>BS1</td>\n",
       "      <td>BS1</td>\n",
       "    </tr>\n",
       "  </tbody>\n",
       "</table>\n",
       "<p>3 rows × 48 columns</p>\n",
       "</div>"
      ],
      "text/plain": [
       "   yearID lgID teamID franchID divID  Rank   G  Ghome   W   L  ...  DP    FP  \\\n",
       "0    1871  NaN    PH1      PNA   NaN     1  28    NaN  21   7  ... NaN  0.84   \n",
       "1    1871  NaN    CH1      CNA   NaN     2  28    NaN  19   9  ... NaN  0.82   \n",
       "2    1871  NaN    BS1      BNA   NaN     3  31    NaN  20  10  ... NaN  0.83   \n",
       "\n",
       "                      name                      park  attendance  BPF  PPF  \\\n",
       "0   Philadelphia Athletics  Jefferson Street Grounds         NaN  102   98   \n",
       "1  Chicago White Stockings   Union Base-Ball Grounds         NaN  104  102   \n",
       "2     Boston Red Stockings       South End Grounds I         NaN  103   98   \n",
       "\n",
       "   teamIDBR  teamIDlahman45  teamIDretro  \n",
       "0       ATH             PH1          PH1  \n",
       "1       CHI             CH1          CH1  \n",
       "2       BOS             BS1          BS1  \n",
       "\n",
       "[3 rows x 48 columns]"
      ]
     },
     "execution_count": 39,
     "metadata": {},
     "output_type": "execute_result"
    }
   ],
   "source": [
    "print('Part 2 of answer to Question 1')\n",
    "teams_df=pd.read_csv(mlz.open(mlz.namelist()[2]))\n",
    "teams_df.head(3)"
   ]
  },
  {
   "cell_type": "markdown",
   "metadata": {},
   "source": [
    "#### Problem 1(b)\n",
    "\n",
    "Summarize the Salaries DataFrame to show the total salaries for each team for each year. Show the head of the new summarized DataFrame. "
   ]
  },
  {
   "cell_type": "code",
   "execution_count": 40,
   "metadata": {},
   "outputs": [
    {
     "data": {
      "text/html": [
       "<div>\n",
       "<style scoped>\n",
       "    .dataframe tbody tr th:only-of-type {\n",
       "        vertical-align: middle;\n",
       "    }\n",
       "\n",
       "    .dataframe tbody tr th {\n",
       "        vertical-align: top;\n",
       "    }\n",
       "\n",
       "    .dataframe thead th {\n",
       "        text-align: right;\n",
       "    }\n",
       "</style>\n",
       "<table border=\"1\" class=\"dataframe\">\n",
       "  <thead>\n",
       "    <tr style=\"text-align: right;\">\n",
       "      <th></th>\n",
       "      <th>yearID</th>\n",
       "      <th>teamID</th>\n",
       "      <th>salary</th>\n",
       "    </tr>\n",
       "  </thead>\n",
       "  <tbody>\n",
       "    <tr>\n",
       "      <th>815</th>\n",
       "      <td>2013</td>\n",
       "      <td>NYA</td>\n",
       "      <td>231978886</td>\n",
       "    </tr>\n",
       "    <tr>\n",
       "      <th>811</th>\n",
       "      <td>2013</td>\n",
       "      <td>LAN</td>\n",
       "      <td>223362196</td>\n",
       "    </tr>\n",
       "    <tr>\n",
       "      <th>575</th>\n",
       "      <td>2005</td>\n",
       "      <td>NYA</td>\n",
       "      <td>208306817</td>\n",
       "    </tr>\n",
       "    <tr>\n",
       "      <th>665</th>\n",
       "      <td>2008</td>\n",
       "      <td>NYA</td>\n",
       "      <td>207896789</td>\n",
       "    </tr>\n",
       "    <tr>\n",
       "      <th>725</th>\n",
       "      <td>2010</td>\n",
       "      <td>NYA</td>\n",
       "      <td>206333389</td>\n",
       "    </tr>\n",
       "  </tbody>\n",
       "</table>\n",
       "</div>"
      ],
      "text/plain": [
       "     yearID teamID     salary\n",
       "815    2013    NYA  231978886\n",
       "811    2013    LAN  223362196\n",
       "575    2005    NYA  208306817\n",
       "665    2008    NYA  207896789\n",
       "725    2010    NYA  206333389"
      ]
     },
     "execution_count": 40,
     "metadata": {},
     "output_type": "execute_result"
    }
   ],
   "source": [
    "team_sal=pd.DataFrame(salaries_df.groupby(['yearID','teamID'])['salary'].sum())\\\n",
    ".reset_index(drop=False).sort_values('salary',ascending=False)\n",
    "team_sal.head()"
   ]
  },
  {
   "cell_type": "markdown",
   "metadata": {},
   "source": [
    "#### Problem 1(c)\n",
    "\n",
    "Merge the new summarized Salaries DataFrame and Teams DataFrame together to create a new DataFrame\n",
    "showing wins and total salaries for each team for each year year. Show the head of the new merged DataFrame.\n",
    "\n",
    "**Hint**: Merge the DataFrames using `teamID` and `yearID`."
   ]
  },
  {
   "cell_type": "code",
   "execution_count": 41,
   "metadata": {
    "jupyter": {
     "outputs_hidden": false
    }
   },
   "outputs": [
    {
     "data": {
      "text/html": [
       "<div>\n",
       "<style scoped>\n",
       "    .dataframe tbody tr th:only-of-type {\n",
       "        vertical-align: middle;\n",
       "    }\n",
       "\n",
       "    .dataframe tbody tr th {\n",
       "        vertical-align: top;\n",
       "    }\n",
       "\n",
       "    .dataframe thead th {\n",
       "        text-align: right;\n",
       "    }\n",
       "</style>\n",
       "<table border=\"1\" class=\"dataframe\">\n",
       "  <thead>\n",
       "    <tr style=\"text-align: right;\">\n",
       "      <th></th>\n",
       "      <th>yearID</th>\n",
       "      <th>teamID</th>\n",
       "      <th>salary</th>\n",
       "      <th>W</th>\n",
       "    </tr>\n",
       "  </thead>\n",
       "  <tbody>\n",
       "    <tr>\n",
       "      <th>134</th>\n",
       "      <td>2013</td>\n",
       "      <td>ARI</td>\n",
       "      <td>90132000</td>\n",
       "      <td>81</td>\n",
       "    </tr>\n",
       "    <tr>\n",
       "      <th>147</th>\n",
       "      <td>2013</td>\n",
       "      <td>ATL</td>\n",
       "      <td>87871525</td>\n",
       "      <td>96</td>\n",
       "    </tr>\n",
       "    <tr>\n",
       "      <th>163</th>\n",
       "      <td>2013</td>\n",
       "      <td>BAL</td>\n",
       "      <td>84393333</td>\n",
       "      <td>85</td>\n",
       "    </tr>\n",
       "    <tr>\n",
       "      <th>19</th>\n",
       "      <td>2013</td>\n",
       "      <td>BOS</td>\n",
       "      <td>151530000</td>\n",
       "      <td>97</td>\n",
       "    </tr>\n",
       "    <tr>\n",
       "      <th>45</th>\n",
       "      <td>2013</td>\n",
       "      <td>CHA</td>\n",
       "      <td>120065277</td>\n",
       "      <td>63</td>\n",
       "    </tr>\n",
       "  </tbody>\n",
       "</table>\n",
       "</div>"
      ],
      "text/plain": [
       "     yearID teamID     salary   W\n",
       "134    2013    ARI   90132000  81\n",
       "147    2013    ATL   87871525  96\n",
       "163    2013    BAL   84393333  85\n",
       "19     2013    BOS  151530000  97\n",
       "45     2013    CHA  120065277  63"
      ]
     },
     "execution_count": 41,
     "metadata": {},
     "output_type": "execute_result"
    }
   ],
   "source": [
    "sal_wins=pd.merge(team_sal,teams_df[['yearID','teamID','W']],on=['yearID','teamID'],how='left')\\\n",
    ".sort_values(['yearID','teamID'],ascending=[False,True])\n",
    "sal_wins.head()"
   ]
  },
  {
   "cell_type": "markdown",
   "metadata": {},
   "source": [
    "#### Problem 1(d)\n",
    "\n",
    "How would you graphically display the relationship between total wins and total salaries for a given year? What kind of plot would be best? Choose a plot to show this relationship and specifically annotate the Oakland baseball team on the on the plot. Show this plot across multiple years. \n",
    "\n",
    "**Hints**: Use a `for` loop to consider multiple years. Use the `teamID` (three letter representation of the team name) to save space on the plot.  "
   ]
  },
  {
   "cell_type": "markdown",
   "metadata": {},
   "source": [
    "###  Analysis\n",
    "\n",
    "The relationship between salary and wins can be restated as effciency (Wins per Dollar), which reduces the three axis problem ($/W/time) to two axes, and gives us a simlpler model to think about.\n",
    "\n",
    "Before going too far in the analyis, it is good idea to get a big picture view of the salaries across the league.  A simple heatmap shows that Oakland is very near the bottom of team salaries 5 years before the period in question.  During 2003 season, Oakland remains in the bottom 25% of team salaries.  \n",
    "\n",
    "This picture also gives us an idea on who to compare to use for comparison purposes, as teams like the Yankees and Dodgers seem to be perenially near the top of league spending (consistently light colors in heatmap below.)  "
   ]
  },
  {
   "cell_type": "code",
   "execution_count": 43,
   "metadata": {},
   "outputs": [
    {
     "data": {
      "image/png": "[encoded data removed]",
      "text/plain": [
       "<Figure size 1000x350 with 2 Axes>"
      ]
     },
     "metadata": {
      "needs_background": "light"
     },
     "output_type": "display_data"
    }
   ],
   "source": [
    "def show_annual_ranking(year):\n",
    "    '''generate a heatmap to show relative salary spending for a particular year'''\n",
    "\n",
    "    team_sals_a=salaries_df.loc[salaries_df.yearID.isin(last_5),:]\\\n",
    "    .pivot_table(index='teamID',columns='yearID',values='salary',aggfunc='sum')\n",
    "    sal_year=team_sals_a.sort_values(year)\n",
    "    sal_year=sal_year[[2003,2002,2001,2000,1999]]\n",
    "\n",
    "    plt.figure(figsize=(10,3.5),dpi=100)\n",
    "    sns.heatmap(sal_year.T,cmap='YlGnBu')\n",
    "    plt.title('Salary spending by team sorted on {}'.format(year))\n",
    "    plt.show()\n",
    "    \n",
    "\n",
    "#show_annual_ranking(1999)\n",
    "show_annual_ranking(2003)"
   ]
  },
  {
   "cell_type": "markdown",
   "metadata": {},
   "source": [
    "### Salary Efficiency\n",
    "\n",
    "Small market teams don't have the salary budget that the larger market teams do, and must be much more efficient with their salary dollars to compete.    \n",
    "\n",
    "The plot in the first cell shows salary efficiency (W/$) for the in the years in question (2002/3) across the league.   Oakland (team in question) is shown in Gold, LA Dodgers are shown in Dodger Blue, and the NY Yankees are shown in Navy (colors consistent on both team graphs.)  It is clear that though the salaries for 2002 and 2003 were significantly different, Oakland was very competitive in terms of wins despite a much smaller budget.\n",
    "\n",
    "The boxplot in the next cell shows that 2002 and 2003 were not out of the norm.  In the five years shown, Oakland was among the most efficient teams in in the league.  Across timeframe, they were in the top 25% of teams in generating wins/$.  The larger market teams had big payrolls, but the incremenmental salary did not result in more wins.  What is also shown is that the hgiher salary teams have passed apparently the point of diminishing returns in terms of salary, and are perenially near the bottom in terms of salary efficiency.\n",
    "\n",
    "Note:  I may not understand the question, as I had no idea what to do with the \"for loop\" hint. I am also assuming that a 2D plot is required by the question for printed material.  An interactive 3D scatter plot would be useful on either a website or this jupyter notebook."
   ]
  },
  {
   "cell_type": "code",
   "execution_count": 34,
   "metadata": {},
   "outputs": [
    {
     "data": {
      "image/png": "[encoded data removed]",
      "text/plain": [
       "<Figure size 1000x400 with 1 Axes>"
      ]
     },
     "metadata": {
      "needs_background": "light"
     },
     "output_type": "display_data"
    }
   ],
   "source": [
    "def make_scatter():\n",
    "    '''Scatter plot 2002 2003'''\n",
    "    y_20023=sal_wins.loc[sal_wins.yearID.isin([2002,2003]),:].sort_values('salary')\n",
    "    plt.figure(figsize=(10,4),dpi=100)\n",
    "    plt.scatter(y_20023['salary'],y_20023['W'],color='lightgrey')\n",
    "    oakland=y_20023.loc[y_20023.teamID=='OAK',:]\n",
    "    plt.scatter(oakland['salary'],oakland['W'],color='gold',s=125,label='OAK')\n",
    "    nya=y_20023.loc[y_20023.teamID=='NYA',:]\n",
    "    plt.scatter(nya['salary'],nya['W'],color='navy',s=125,label='NYA')\n",
    "    lan=y_20023.loc[y_20023.teamID=='LAN',:]\n",
    "    plt.scatter(lan['salary'],lan['W'],color='dodgerblue',s=125,label='LAN')\n",
    "    plt.xlabel('Annual Team Salary')\n",
    "    plt.ylabel('Annual Wins')\n",
    "    plt.title('Team Salary efficiency (W/$100M) 2002-2003')\n",
    "    plt.legend(loc='lower right')\n",
    "    plt.show()\n",
    "    \n",
    "make_scatter()"
   ]
  },
  {
   "cell_type": "code",
   "execution_count": 35,
   "metadata": {},
   "outputs": [
    {
     "data": {
      "image/png": "[encoded data removed]",
      "text/plain": [
       "<Figure size 1000x400 with 1 Axes>"
      ]
     },
     "metadata": {
      "needs_background": "light"
     },
     "output_type": "display_data"
    }
   ],
   "source": [
    "def make_histogram():\n",
    "    sal_wins['w_100K']=(sal_wins['W']/sal_wins['salary'].astype(float))*100000\n",
    "    sal_wins['yearID']=sal_wins['yearID'].astype(int)\n",
    "\n",
    "    plt.figure(figsize=(10,4),dpi=100)\n",
    "    l5=sal_wins.loc[sal_wins.yearID.isin(last_5),:].sort_values('yearID')\n",
    "    sns.boxplot(x='yearID',y='w_100K',data=l5,\n",
    "                color='lightgrey')\n",
    "\n",
    "    oakland_eff=l5.loc[l5.teamID=='OAK',:]\n",
    "    sns.pointplot(x='yearID',y='w_100K',data=oakland_eff,color='gold',size=12)\n",
    "\n",
    "    yankees_eff=l5.loc[l5.teamID=='NYA',:]\n",
    "    sns.pointplot(x='yearID',y='w_100K',data=yankees_eff,color='navy',size=12)\n",
    "\n",
    "    dodgers_eff=l5.loc[l5.teamID=='LAN',:]\n",
    "    sns.pointplot(x='yearID',y='w_100K',data=dodgers_eff,color='dodgerblue',size=12)\n",
    "\n",
    "    plt.title('Salary Efficiency (Wins/100K$) of Oakland, Yankess, and Dodgers')\n",
    "\n",
    "    plt.show()\n",
    "    \n",
    "make_histogram()"
   ]
  },
  {
   "cell_type": "markdown",
   "metadata": {},
   "source": [
    "# Part 2. Web Development"
   ]
  },
  {
   "cell_type": "markdown",
   "metadata": {},
   "source": [
    "## Introduction\n",
    "At the Department of Biomedical Informatics the Data Core assists faculty members with the creation of tools to enable cutting edge research in multidisciplinary fields. Common tasks such as data warehousing, collection, or protection are not the expertise of the clinical faculty and it’s our job to be those specialists.\n",
    "\n",
    "## Purpose\n",
    "Show off your web development chops. Share with us an online repo demonstrating a recent project, something of the web app variety.  Add a detailed README that describes the purpose of the project if it doesn't already have one; include some design details and how the solution addresses the need. Good code is important but good communication is also key to helping others use what you've built. Alternatively if you don’t have a project repo to share, then complete the example project described below.\n",
    "\n",
    "The goal here is to help us understand how you develop software as a whole, including design, documentation and testing. For this exercise, writing clear code with intentional design are the most important parts. We recognize that you probably have a lot of other things going on in your life and so this shouldn't consume more than a few hours. Submit what you think is appropriate and then we can talk through the what you've done.  We're looking to understand how you approach and solve problems. Please used either Python or Javascript for \n",
    "\n",
    "Deliverables should include:\n",
    "- source code with instructions for launching the app\n",
    "- any additional relevant files such as documentation or design diagrams\n",
    "\n",
    "#### Example project description\n",
    "A key project managed by DBMI is the Undiagnosed Diseases Network (UDN). The UDN platform is a web app that collects information about participants and allows hospitals, medical centers, and research staff share and review participant information.\n",
    "\n",
    "For this test we would like you to create a small web app.  Specifically you should create two views: 1) add a participant by presenting a form that gathers details about a participant and 2) display a list of all participants with their data in a table. \n",
    "\n",
    "The form should have character input fields for \n",
    "- Participant Name\n",
    "- Participant Age\n",
    "- Does Participant have any siblings?\n",
    "- Known environmental exposures\n",
    "- Known genetic mutations\n",
    "\n",
    "After submitting information you should be redirected to the list view where each participant and the values they entered are present. \n",
    "\n",
    "**Bonus:** Add a dropdown box for each participant that would have 3 values (Not Reviewed, Reviewed - Accepted, Reviewed - Not Accepted). Changing of this dropdown should save this field alongside the participant data.\n",
    "\n"
   ]
  }
 ],
 "metadata": {
  "kernelspec": {
   "display_name": "Python 3",
   "language": "python",
   "name": "python3"
  },
  "language_info": {
   "codemirror_mode": {
    "name": "ipython",
    "version": 3
   },
   "file_extension": ".py",
   "mimetype": "text/x-python",
   "name": "python",
   "nbconvert_exporter": "python",
   "pygments_lexer": "ipython3",
   "version": "3.7.3"
  }
 },
 "nbformat": 4,
 "nbformat_minor": 4
}
